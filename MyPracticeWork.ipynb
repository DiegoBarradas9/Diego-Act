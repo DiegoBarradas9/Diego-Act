{
 "cells": [
  {
   "cell_type": "code",
   "execution_count": 1,
   "id": "aa991ac0",
   "metadata": {},
   "outputs": [
    {
     "name": "stdout",
     "output_type": "stream",
     "text": [
      "Diego\n",
      "Barradas\n"
     ]
    }
   ],
   "source": [
    "#Example of variable names\n",
    "myvar = \"Diego\"\n",
    "my_var = \"Barradas\"\n",
    "print(myvar)\n",
    "print(my_var)\n"
   ]
  },
  {
   "cell_type": "code",
   "execution_count": 2,
   "id": "1885fff1",
   "metadata": {},
   "outputs": [
    {
     "name": "stdout",
     "output_type": "stream",
     "text": [
      "19\n",
      "diego\n"
     ]
    }
   ],
   "source": [
    "#Creating Values\n",
    "x = 19\n",
    "y = \"diego\"\n",
    "print(x)\n",
    "print(y)\n"
   ]
  },
  {
   "cell_type": "code",
   "execution_count": 3,
   "id": "21a8acf8",
   "metadata": {},
   "outputs": [
    {
     "name": "stdout",
     "output_type": "stream",
     "text": [
      "Diego Anico Barradas\n"
     ]
    }
   ],
   "source": [
    "#Multiple Values\n",
    "x, y, z = \"Diego\", \"Barradas\", \"Anico\"\n",
    "print(x,z,y)\n"
   ]
  },
  {
   "cell_type": "code",
   "execution_count": 4,
   "id": "a1f08836",
   "metadata": {},
   "outputs": [
    {
     "name": "stdout",
     "output_type": "stream",
     "text": [
      "15\n"
     ]
    }
   ],
   "source": [
    "#output variables\n",
    "x = 5\n",
    "y = 10\n",
    "print(x + y)\n"
   ]
  },
  {
   "cell_type": "code",
   "execution_count": 5,
   "id": "e589b39c",
   "metadata": {},
   "outputs": [
    {
     "name": "stdout",
     "output_type": "stream",
     "text": [
      "Diego is cool\n",
      "Don is classic man \n"
     ]
    }
   ],
   "source": [
    "#global Variable\n",
    "x = \"classic man \"\n",
    "\n",
    "def myfunc():\n",
    "  x = \"cool\"\n",
    "  print(\"Diego is \" + x)\n",
    "\n",
    "myfunc()\n",
    "\n",
    "print(\"Don is \" + x)"
   ]
  },
  {
   "cell_type": "code",
   "execution_count": 6,
   "id": "7fb1251a",
   "metadata": {},
   "outputs": [
    {
     "name": "stdout",
     "output_type": "stream",
     "text": [
      "B\n"
     ]
    }
   ],
   "source": [
    "#strings \n",
    "a = \"Diego B.!\"\n",
    "print(a[6])"
   ]
  },
  {
   "cell_type": "code",
   "execution_count": 7,
   "id": "3562c5fc",
   "metadata": {},
   "outputs": [
    {
     "name": "stdout",
     "output_type": "stream",
     "text": [
      "17\n"
     ]
    }
   ],
   "source": [
    "a = \"Diego A. Barradas\"\n",
    "print(len(a))"
   ]
  },
  {
   "cell_type": "code",
   "execution_count": 8,
   "id": "a01f5138",
   "metadata": {},
   "outputs": [
    {
     "name": "stdout",
     "output_type": "stream",
     "text": [
      "BARRADAS\n",
      "diego\n"
     ]
    }
   ],
   "source": [
    "a = \"Barradas\"\n",
    "b = \"Diego\"\n",
    "print(a.upper())\n",
    "print(b.lower())"
   ]
  },
  {
   "cell_type": "code",
   "execution_count": 9,
   "id": "14f2bd3f",
   "metadata": {},
   "outputs": [
    {
     "name": "stdout",
     "output_type": "stream",
     "text": [
      "b is not greater than a\n"
     ]
    }
   ],
   "source": [
    "#booleans\n",
    "a = 322\n",
    "b = 12\n",
    "\n",
    "if b > a:\n",
    "  print(\"b is greater than a\")\n",
    "else:\n",
    "  print(\"b is not greater than a\")"
   ]
  },
  {
   "cell_type": "code",
   "execution_count": 1,
   "id": "73992d47",
   "metadata": {},
   "outputs": [
    {
     "name": "stdout",
     "output_type": "stream",
     "text": [
      "['anna', 'jaya', 'nana', 'anne', 'joy']\n"
     ]
    }
   ],
   "source": [
    "#list \n",
    "thislist = [\"anna\", \"jaya\", \"nana\", \"anne\", \"joy\"]\n",
    "print(thislist)"
   ]
  },
  {
   "cell_type": "code",
   "execution_count": 2,
   "id": "c8a0bc06",
   "metadata": {},
   "outputs": [
    {
     "name": "stdout",
     "output_type": "stream",
     "text": [
      "['mio', 'lambo', 'F1']\n"
     ]
    }
   ],
   "source": [
    "#replacing/change list\n",
    "thislist = [\"bmw\", \"lambo\", \"F1\"]\n",
    "thislist[0] = \"mio\"\n",
    "print(thislist)"
   ]
  },
  {
   "cell_type": "code",
   "execution_count": 3,
   "id": "5c2ecaa1",
   "metadata": {},
   "outputs": [
    {
     "name": "stdout",
     "output_type": "stream",
     "text": [
      "['apple', 'banana', 'cherry', 'cabbage']\n",
      "['apple', 'banana', 'cherry', 'lemon']\n",
      "['apple', 'banana', 'cherry', 'mango', 'pineapple', 'papaya']\n",
      "['banana', 'cherry']\n"
     ]
    }
   ],
   "source": [
    "#add list by using append ()\n",
    "#append is used for adding a item at the end of the list\n",
    "\n",
    "thislist = [\"apple\", \"banana\", \"cherry\"]\n",
    "\n",
    "thislist.append(\"cabbage\")\n",
    "\n",
    "print(thislist)\n",
    "\n",
    "#insert an item to the list with specific index\n",
    "\n",
    "thislist = [\"apple\", \"banana\", \"cherry\"]\n",
    "thislist.insert(3, \"lemon\")\n",
    "print(thislist)\n",
    "\n",
    "#extention of the index \"extend()\"\n",
    "thislist = [\"apple\", \"banana\", \"cherry\"]\n",
    "tropical = [\"mango\", \"pineapple\", \"papaya\"]\n",
    "\n",
    "thislist.extend(tropical)\n",
    "\n",
    "print(thislist)\n",
    "\n",
    "#remove list item\n",
    "thislist = [\"apple\", \"banana\", \"cherry\"]\n",
    "thislist.remove(\"apple\")\n",
    "print(thislist)"
   ]
  },
  {
   "cell_type": "code",
   "execution_count": 4,
   "id": "9a1500dc",
   "metadata": {},
   "outputs": [
    {
     "name": "stdout",
     "output_type": "stream",
     "text": [
      "Diego \n",
      "Barradas\n",
      "Anico\n"
     ]
    },
    {
     "data": {
      "text/plain": [
       "[None, None, None]"
      ]
     },
     "execution_count": 4,
     "metadata": {},
     "output_type": "execute_result"
    }
   ],
   "source": [
    "#loop \n",
    "thislist = [\"Diego \", \"Barradas\", \"Anico\"]\n",
    "[print(x) for x in thislist]"
   ]
  },
  {
   "cell_type": "code",
   "execution_count": 5,
   "id": "0bd470d6",
   "metadata": {},
   "outputs": [
    {
     "name": "stdout",
     "output_type": "stream",
     "text": [
      "['banana', 'mango']\n"
     ]
    }
   ],
   "source": [
    "#list comprehension or new listing\n",
    "fruits = [\"apple\", \"banana\", \"cherry\", \"kiwi\", \"mango\"]\n",
    "newlist = []\n",
    "\n",
    "for x in fruits:\n",
    "  if \"n\" in x:\n",
    "    newlist.append(x)\n",
    "\n",
    "print(newlist)"
   ]
  },
  {
   "cell_type": "code",
   "execution_count": 6,
   "id": "37d8e6c6",
   "metadata": {},
   "outputs": [
    {
     "name": "stdout",
     "output_type": "stream",
     "text": [
      "[23, 50, 65, 82, 120]\n"
     ]
    }
   ],
   "source": [
    "#sort list \n",
    "#sort list is a method that will sort of alphanumerically, ascending defult\n",
    "thislist = [120, 50, 65, 82, 23]\n",
    "thislist.sort()\n",
    "print(thislist)"
   ]
  },
  {
   "cell_type": "code",
   "execution_count": 7,
   "id": "e57d6cb8",
   "metadata": {},
   "outputs": [
    {
     "name": "stdout",
     "output_type": "stream",
     "text": [
      "['Diego', 'Anico', 'Barradas', '19', 'balanga lem, Batangas']\n"
     ]
    }
   ],
   "source": [
    "#join list \n",
    "#adding two or more list \n",
    "list1 = [\"Diego\", \"Anico\", \"Barradas\"]\n",
    "list2 = [\"19\"]\n",
    "list3 = [\"balanga lem, Batangas\"]\n",
    "list4 = list1 + list2+list3\n",
    "print(list4)"
   ]
  },
  {
   "cell_type": "code",
   "execution_count": 8,
   "id": "91c1bef2",
   "metadata": {},
   "outputs": [
    {
     "name": "stdout",
     "output_type": "stream",
     "text": [
      "('Diego', 'Anico', 'Barradas')\n"
     ]
    }
   ],
   "source": [
    "#Tuples are used to store multiple items in a single variable\n",
    "thistuple = tuple((\"Diego\", \"Anico\", \"Barradas\"))\n",
    "print(thistuple)"
   ]
  },
  {
   "cell_type": "code",
   "execution_count": 9,
   "id": "7031fbf3",
   "metadata": {},
   "outputs": [
    {
     "name": "stdout",
     "output_type": "stream",
     "text": [
      "Diego\n"
     ]
    }
   ],
   "source": [
    "#specific index\n",
    "#negative indexing can be used too\n",
    "thistuple = tuple((\"Diego\", \"Anico\", \"Barradas\"))\n",
    "print(thistuple[0])"
   ]
  },
  {
   "cell_type": "code",
   "execution_count": 10,
   "id": "7cd1a4a1",
   "metadata": {},
   "outputs": [
    {
     "name": "stdout",
     "output_type": "stream",
     "text": [
      "('apple', 'grapes', 'cherry')\n"
     ]
    }
   ],
   "source": [
    "#updating tuples\n",
    "x = (\"apple\", \"banana\", \"cherry\")\n",
    "y = list(x)\n",
    "y[1] = \"grapes\"\n",
    "x = tuple(y)\n",
    "\n",
    "print(x)"
   ]
  },
  {
   "cell_type": "code",
   "execution_count": 11,
   "id": "2da7ebe3",
   "metadata": {},
   "outputs": [
    {
     "name": "stdout",
     "output_type": "stream",
     "text": [
      "{'banana', 'apple', 'cherry'}\n"
     ]
    }
   ],
   "source": [
    "#sets \n",
    "# Note: the set list is unordered, meaning: the items will appear in a random order.\n",
    "# Refresh this page to see the change in the result.\n",
    "thisset = {\"apple\", \"banana\", \"cherry\"}\n",
    "print(thisset)"
   ]
  },
  {
   "cell_type": "code",
   "execution_count": null,
   "id": "8b788b7b",
   "metadata": {},
   "outputs": [],
   "source": []
  }
 ],
 "metadata": {
  "kernelspec": {
   "display_name": "Python 3 (ipykernel)",
   "language": "python",
   "name": "python3"
  },
  "language_info": {
   "codemirror_mode": {
    "name": "ipython",
    "version": 3
   },
   "file_extension": ".py",
   "mimetype": "text/x-python",
   "name": "python",
   "nbconvert_exporter": "python",
   "pygments_lexer": "ipython3",
   "version": "3.9.12"
  }
 },
 "nbformat": 4,
 "nbformat_minor": 5
}
